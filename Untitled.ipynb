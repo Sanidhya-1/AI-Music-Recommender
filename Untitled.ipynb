{
 "cells": [
  {
   "cell_type": "code",
   "execution_count": 2,
   "id": "eb3414de",
   "metadata": {},
   "outputs": [],
   "source": [
    "# creating the AI Powered Music Recommender System"
   ]
  },
  {
   "cell_type": "code",
   "execution_count": 4,
   "id": "e5509a69",
   "metadata": {},
   "outputs": [],
   "source": [
    "#import the libraries needed\n",
    "import pandas as pd\n",
    "import numpy as np"
   ]
  },
  {
   "cell_type": "code",
   "execution_count": 1,
   "id": "66afeadb",
   "metadata": {},
   "outputs": [],
   "source": [
    "import os  #os module offers functions and methods for performing various operating system-related tasks, \n",
    "           #such as file and directory manipulation, environment variables, and process management."
   ]
  },
  {
   "cell_type": "code",
   "execution_count": 5,
   "id": "36e25900",
   "metadata": {},
   "outputs": [
    {
     "name": "stderr",
     "output_type": "stream",
     "text": [
      "UsageError: unrecognized arguments: #used to display Matplotlib plots directly in the notebook cell output, rather than in a separate window or a pop-up window\n"
     ]
    }
   ],
   "source": [
    "import seaborn as sns\n",
    "import plotly.express as px\n",
    "import matplotlib.pyplot as plt\n",
    "%matplotlib inline  #used to display Matplotlib plots directly in the notebook cell output, rather than in a separate window or a pop-up window"
   ]
  },
  {
   "cell_type": "code",
   "execution_count": 6,
   "id": "6216c4b6",
   "metadata": {},
   "outputs": [],
   "source": [
    "from sklearn.cluster import KMeans # KMeans is used to cluster the data into two clusters. The labels will contain the cluster assignments for each data point, and centers will give you the center coordinates of the two clusters\n",
    "from sklearn.preprocessing import StandardScaler #standardizing or normalizing features in your dataset.it helps make the data more suitable for algorithms that are sensitive to the scale of the features.\n",
    "from sklearn.pipeline import Pipeline #ipeline combines data preprocessing (standardization and PCA) with a machine learning model (RandomForestClassifier) into a single workflow. This simplifies the entire process and allows for efficient data transformation, training, and evaluation\n",
    "from sklearn.manifold import TSNE #t-Distributed Stochastic Neighbor Embedding (t-SNE)  It is a technique that transforms high-dimensional data into a lower-dimensional representation while preserving the pairwise similarity or dissimilarity between data points as much as possible\n",
    "from sklearn.decomposition import PCA #Principal Component Analysis used for dimensionality reduction, which is the process of transforming high-dimensional data into a lower-dimensional representation while retaining the most important information and patterns in the data.\n",
    "from sklearn.metrics import euclidean_distances\n"
   ]
  },
  {
   "cell_type": "code",
   "execution_count": null,
   "id": "50e4690e",
   "metadata": {},
   "outputs": [],
   "source": []
  },
  {
   "cell_type": "code",
   "execution_count": null,
   "id": "39e61a04",
   "metadata": {},
   "outputs": [],
   "source": []
  },
  {
   "cell_type": "code",
   "execution_count": null,
   "id": "1f55b2f6",
   "metadata": {},
   "outputs": [],
   "source": []
  },
  {
   "cell_type": "code",
   "execution_count": null,
   "id": "128cd5ed",
   "metadata": {},
   "outputs": [],
   "source": []
  },
  {
   "cell_type": "code",
   "execution_count": null,
   "id": "0a58ebb5",
   "metadata": {},
   "outputs": [],
   "source": []
  },
  {
   "cell_type": "code",
   "execution_count": null,
   "id": "635e73b7",
   "metadata": {},
   "outputs": [],
   "source": []
  },
  {
   "cell_type": "code",
   "execution_count": null,
   "id": "c1e2a354",
   "metadata": {},
   "outputs": [],
   "source": []
  }
 ],
 "metadata": {
  "kernelspec": {
   "display_name": "Python 3 (ipykernel)",
   "language": "python",
   "name": "python3"
  },
  "language_info": {
   "codemirror_mode": {
    "name": "ipython",
    "version": 3
   },
   "file_extension": ".py",
   "mimetype": "text/x-python",
   "name": "python",
   "nbconvert_exporter": "python",
   "pygments_lexer": "ipython3",
   "version": "3.10.10"
  }
 },
 "nbformat": 4,
 "nbformat_minor": 5
}
